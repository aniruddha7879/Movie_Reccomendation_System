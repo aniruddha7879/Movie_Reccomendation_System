{
 "cells": [
  {
   "cell_type": "markdown",
   "id": "84e943f6",
   "metadata": {},
   "source": [
    "# Import Libraries "
   ]
  },
  {
   "cell_type": "code",
   "execution_count": null,
   "id": "d46daa37",
   "metadata": {},
   "outputs": [],
   "source": [
    "import pandas as pd\n",
    "import numpy as np"
   ]
  },
  {
   "cell_type": "markdown",
   "id": "10490e41",
   "metadata": {},
   "source": [
    "# Import Dataset"
   ]
  },
  {
   "cell_type": "code",
   "execution_count": null,
   "id": "c7670704",
   "metadata": {},
   "outputs": [],
   "source": [
    "df = pd.read_csv(\"Movies Recommendation.csv\")                "
   ]
  },
  {
   "cell_type": "code",
   "execution_count": null,
   "id": "caf01aeb",
   "metadata": {},
   "outputs": [],
   "source": [
    "df.head()"
   ]
  },
  {
   "cell_type": "code",
   "execution_count": null,
   "id": "fb2afb4c",
   "metadata": {},
   "outputs": [],
   "source": [
    "df.info()"
   ]
  },
  {
   "cell_type": "code",
   "execution_count": 7,
   "id": "3cf89e0b",
   "metadata": {},
   "outputs": [
    {
     "data": {
      "text/plain": [
       "(4760, 21)"
      ]
     },
     "execution_count": 7,
     "metadata": {},
     "output_type": "execute_result"
    }
   ],
   "source": [
    "df.shape"
   ]
  },
  {
   "cell_type": "code",
   "execution_count": 8,
   "id": "6324b58c",
   "metadata": {},
   "outputs": [
    {
     "data": {
      "text/plain": [
       "Index(['Movie_ID', 'Movie_Title', 'Movie_Genre', 'Movie_Language',\n",
       "       'Movie_Budget', 'Movie_Popularity', 'Movie_Release_Date',\n",
       "       'Movie_Revenue', 'Movie_Runtime', 'Movie_Vote', 'Movie_Vote_Count',\n",
       "       'Movie_Homepage', 'Movie_Keywords', 'Movie_Overview',\n",
       "       'Movie_Production_House', 'Movie_Production_Country',\n",
       "       'Movie_Spoken_Language', 'Movie_Tagline', 'Movie_Cast', 'Movie_Crew',\n",
       "       'Movie_Director'],\n",
       "      dtype='object')"
      ]
     },
     "execution_count": 8,
     "metadata": {},
     "output_type": "execute_result"
    }
   ],
   "source": [
    "df.columns"
   ]
  },
  {
   "cell_type": "markdown",
   "id": "d8fe0fca",
   "metadata": {},
   "source": [
    "# Selecting The Features"
   ]
  },
  {
   "cell_type": "code",
   "execution_count": 9,
   "id": "73d9a0ef",
   "metadata": {},
   "outputs": [],
   "source": [
    "df_features = df[['Movie_Genre', 'Movie_Keywords', 'Movie_Tagline', 'Movie_Director']].fillna('')"
   ]
  },
  {
   "cell_type": "code",
   "execution_count": 10,
   "id": "e003a558",
   "metadata": {},
   "outputs": [
    {
     "data": {
      "text/plain": [
       "(4760, 4)"
      ]
     },
     "execution_count": 10,
     "metadata": {},
     "output_type": "execute_result"
    }
   ],
   "source": [
    "df_features.shape"
   ]
  },
  {
   "cell_type": "code",
   "execution_count": 11,
   "id": "d34aed0a",
   "metadata": {},
   "outputs": [
    {
     "data": {
      "text/html": [
       "<div>\n",
       "<style scoped>\n",
       "    .dataframe tbody tr th:only-of-type {\n",
       "        vertical-align: middle;\n",
       "    }\n",
       "\n",
       "    .dataframe tbody tr th {\n",
       "        vertical-align: top;\n",
       "    }\n",
       "\n",
       "    .dataframe thead th {\n",
       "        text-align: right;\n",
       "    }\n",
       "</style>\n",
       "<table border=\"1\" class=\"dataframe\">\n",
       "  <thead>\n",
       "    <tr style=\"text-align: right;\">\n",
       "      <th></th>\n",
       "      <th>Movie_Genre</th>\n",
       "      <th>Movie_Keywords</th>\n",
       "      <th>Movie_Tagline</th>\n",
       "      <th>Movie_Director</th>\n",
       "    </tr>\n",
       "  </thead>\n",
       "  <tbody>\n",
       "    <tr>\n",
       "      <th>0</th>\n",
       "      <td>Crime Comedy</td>\n",
       "      <td>hotel new year's eve witch bet hotel room</td>\n",
       "      <td>Twelve outrageous guests. Four scandalous requ...</td>\n",
       "      <td>Allison Anders</td>\n",
       "    </tr>\n",
       "    <tr>\n",
       "      <th>1</th>\n",
       "      <td>Adventure Action Science Fiction</td>\n",
       "      <td>android galaxy hermit death star lightsaber</td>\n",
       "      <td>A long time ago in a galaxy far, far away...</td>\n",
       "      <td>George Lucas</td>\n",
       "    </tr>\n",
       "    <tr>\n",
       "      <th>2</th>\n",
       "      <td>Animation Family</td>\n",
       "      <td>father son relationship harbor underwater fish...</td>\n",
       "      <td>There are 3.7 trillion fish in the ocean, they...</td>\n",
       "      <td>Andrew Stanton</td>\n",
       "    </tr>\n",
       "    <tr>\n",
       "      <th>3</th>\n",
       "      <td>Comedy Drama Romance</td>\n",
       "      <td>vietnam veteran hippie mentally disabled runni...</td>\n",
       "      <td>The world will never be the same, once you've ...</td>\n",
       "      <td>Robert Zemeckis</td>\n",
       "    </tr>\n",
       "    <tr>\n",
       "      <th>4</th>\n",
       "      <td>Drama</td>\n",
       "      <td>male nudity female nudity adultery midlife cri...</td>\n",
       "      <td>Look closer.</td>\n",
       "      <td>Sam Mendes</td>\n",
       "    </tr>\n",
       "    <tr>\n",
       "      <th>...</th>\n",
       "      <td>...</td>\n",
       "      <td>...</td>\n",
       "      <td>...</td>\n",
       "      <td>...</td>\n",
       "    </tr>\n",
       "    <tr>\n",
       "      <th>4755</th>\n",
       "      <td>Horror</td>\n",
       "      <td></td>\n",
       "      <td>The hot spot where Satan's waitin'.</td>\n",
       "      <td>Pece Dingo</td>\n",
       "    </tr>\n",
       "    <tr>\n",
       "      <th>4756</th>\n",
       "      <td>Comedy Family Drama</td>\n",
       "      <td></td>\n",
       "      <td>It’s better to stand out than to fit in.</td>\n",
       "      <td>Frank Lotito</td>\n",
       "    </tr>\n",
       "    <tr>\n",
       "      <th>4757</th>\n",
       "      <td>Thriller Drama</td>\n",
       "      <td>christian film sex trafficking</td>\n",
       "      <td>She never knew it could happen to her...</td>\n",
       "      <td>Jaco Booyens</td>\n",
       "    </tr>\n",
       "    <tr>\n",
       "      <th>4758</th>\n",
       "      <td>Family</td>\n",
       "      <td></td>\n",
       "      <td></td>\n",
       "      <td></td>\n",
       "    </tr>\n",
       "    <tr>\n",
       "      <th>4759</th>\n",
       "      <td>Documentary</td>\n",
       "      <td>music actors legendary perfomer classic hollyw...</td>\n",
       "      <td></td>\n",
       "      <td>Simon Napier-Bell</td>\n",
       "    </tr>\n",
       "  </tbody>\n",
       "</table>\n",
       "<p>4760 rows × 4 columns</p>\n",
       "</div>"
      ],
      "text/plain": [
       "                           Movie_Genre  \\\n",
       "0                         Crime Comedy   \n",
       "1     Adventure Action Science Fiction   \n",
       "2                     Animation Family   \n",
       "3                 Comedy Drama Romance   \n",
       "4                                Drama   \n",
       "...                                ...   \n",
       "4755                            Horror   \n",
       "4756               Comedy Family Drama   \n",
       "4757                    Thriller Drama   \n",
       "4758                            Family   \n",
       "4759                       Documentary   \n",
       "\n",
       "                                         Movie_Keywords  \\\n",
       "0             hotel new year's eve witch bet hotel room   \n",
       "1           android galaxy hermit death star lightsaber   \n",
       "2     father son relationship harbor underwater fish...   \n",
       "3     vietnam veteran hippie mentally disabled runni...   \n",
       "4     male nudity female nudity adultery midlife cri...   \n",
       "...                                                 ...   \n",
       "4755                                                      \n",
       "4756                                                      \n",
       "4757                     christian film sex trafficking   \n",
       "4758                                                      \n",
       "4759  music actors legendary perfomer classic hollyw...   \n",
       "\n",
       "                                          Movie_Tagline     Movie_Director  \n",
       "0     Twelve outrageous guests. Four scandalous requ...     Allison Anders  \n",
       "1          A long time ago in a galaxy far, far away...       George Lucas  \n",
       "2     There are 3.7 trillion fish in the ocean, they...     Andrew Stanton  \n",
       "3     The world will never be the same, once you've ...    Robert Zemeckis  \n",
       "4                                          Look closer.         Sam Mendes  \n",
       "...                                                 ...                ...  \n",
       "4755                The hot spot where Satan's waitin'.         Pece Dingo  \n",
       "4756           It’s better to stand out than to fit in.       Frank Lotito  \n",
       "4757           She never knew it could happen to her...       Jaco Booyens  \n",
       "4758                                                                        \n",
       "4759                                                     Simon Napier-Bell  \n",
       "\n",
       "[4760 rows x 4 columns]"
      ]
     },
     "execution_count": 11,
     "metadata": {},
     "output_type": "execute_result"
    }
   ],
   "source": [
    "df_features"
   ]
  },
  {
   "cell_type": "code",
   "execution_count": 12,
   "id": "a2306d4d",
   "metadata": {},
   "outputs": [],
   "source": [
    "Selections = df_features['Movie_Genre'] + ' ' + df_features['Movie_Keywords'] + ' ' + df_features['Movie_Tagline'] + ' '+ df_features['Movie_Director']"
   ]
  },
  {
   "cell_type": "code",
   "execution_count": 13,
   "id": "22671a9d",
   "metadata": {},
   "outputs": [
    {
     "data": {
      "text/plain": [
       "0       Crime Comedy hotel new year's eve witch bet ho...\n",
       "1       Adventure Action Science Fiction android galax...\n",
       "2       Animation Family father son relationship harbo...\n",
       "3       Comedy Drama Romance vietnam veteran hippie me...\n",
       "4       Drama male nudity female nudity adultery midli...\n",
       "                              ...                        \n",
       "4755    Horror  The hot spot where Satan's waitin'. Pe...\n",
       "4756    Comedy Family Drama  It’s better to stand out ...\n",
       "4757    Thriller Drama christian film sex trafficking ...\n",
       "4758                                            Family   \n",
       "4759    Documentary music actors legendary perfomer cl...\n",
       "Length: 4760, dtype: object"
      ]
     },
     "execution_count": 13,
     "metadata": {},
     "output_type": "execute_result"
    }
   ],
   "source": [
    "Selections"
   ]
  },
  {
   "cell_type": "code",
   "execution_count": 14,
   "id": "fbca5e80",
   "metadata": {},
   "outputs": [
    {
     "data": {
      "text/plain": [
       "(4760,)"
      ]
     },
     "execution_count": 14,
     "metadata": {},
     "output_type": "execute_result"
    }
   ],
   "source": [
    "Selections.shape"
   ]
  },
  {
   "cell_type": "markdown",
   "id": "e9438de5",
   "metadata": {},
   "source": [
    "# Get feature Text Conversion to Tokens"
   ]
  },
  {
   "cell_type": "code",
   "execution_count": 15,
   "id": "cbeeb7c0",
   "metadata": {},
   "outputs": [],
   "source": [
    "from sklearn.feature_extraction.text import TfidfVectorizer"
   ]
  },
  {
   "cell_type": "code",
   "execution_count": 16,
   "id": "9798a10d",
   "metadata": {},
   "outputs": [],
   "source": [
    "vectorizer = TfidfVectorizer()"
   ]
  },
  {
   "cell_type": "code",
   "execution_count": 17,
   "id": "c7e552f7",
   "metadata": {},
   "outputs": [],
   "source": [
    "X = vectorizer.fit_transform(Selections)"
   ]
  },
  {
   "cell_type": "code",
   "execution_count": 18,
   "id": "2602056c",
   "metadata": {},
   "outputs": [
    {
     "data": {
      "text/plain": [
       "(4760, 9666)"
      ]
     },
     "execution_count": 18,
     "metadata": {},
     "output_type": "execute_result"
    }
   ],
   "source": [
    "X.shape"
   ]
  },
  {
   "cell_type": "code",
   "execution_count": 19,
   "id": "53cdf780",
   "metadata": {},
   "outputs": [
    {
     "name": "stdout",
     "output_type": "stream",
     "text": [
      "  (0, 376)\t0.18272810724070418\n",
      "  (0, 316)\t0.19632202064896634\n",
      "  (0, 5024)\t0.09373465698968353\n",
      "  (0, 6094)\t0.06761788284030082\n",
      "  (0, 9426)\t0.19090152648212289\n",
      "  (0, 3256)\t0.09303304831704608\n",
      "  (0, 9401)\t0.11559559866313328\n",
      "  (0, 4521)\t0.1443365785980048\n",
      "  (0, 8543)\t0.1065109136318404\n",
      "  (0, 6131)\t0.0786972588733094\n",
      "  (0, 2203)\t0.1375276201579133\n",
      "  (0, 3175)\t0.12385671298754733\n",
      "  (0, 4023)\t0.21434670508652215\n",
      "  (0, 4253)\t0.15944969524116445\n",
      "  (0, 866)\t0.21315961343110615\n",
      "  (0, 5106)\t0.16963506748686155\n",
      "  (0, 6133)\t0.08935032151608546\n",
      "  (0, 374)\t0.08264227113134892\n",
      "  (0, 7062)\t0.21315961343110615\n",
      "  (0, 7448)\t0.21315961343110615\n",
      "  (0, 3296)\t0.15847233257383517\n",
      "  (0, 3724)\t0.20331025305114117\n",
      "  (0, 6209)\t0.20331025305114117\n",
      "  (0, 8864)\t0.19090152648212289\n",
      "  (0, 7244)\t0.15847233257383517\n",
      "  :\t:\n",
      "  (4757, 1975)\t0.26800244457573114\n",
      "  (4757, 3821)\t0.29309239322653075\n",
      "  (4757, 7673)\t0.22148093071406288\n",
      "  (4757, 7622)\t0.20123579506754563\n",
      "  (4757, 3145)\t0.168092031177192\n",
      "  (4757, 4761)\t0.31653219908433233\n",
      "  (4757, 3948)\t0.2305741747626342\n",
      "  (4757, 8597)\t0.10300110054376047\n",
      "  (4757, 8644)\t0.1312593706509848\n",
      "  (4757, 4404)\t0.15447322365698812\n",
      "  (4757, 5939)\t0.1957451067341251\n",
      "  (4757, 2565)\t0.07636984555550978\n",
      "  (4758, 3012)\t1.0\n",
      "  (4759, 5864)\t0.3489795931696709\n",
      "  (4759, 7786)\t0.3489795931696709\n",
      "  (4759, 6411)\t0.3489795931696709\n",
      "  (4759, 166)\t0.3328544664486442\n",
      "  (4759, 4946)\t0.3125392093504262\n",
      "  (4759, 1692)\t0.2891632535235492\n",
      "  (4759, 865)\t0.29915789158688394\n",
      "  (4759, 4053)\t0.27159180538281574\n",
      "  (4759, 7777)\t0.255466678661789\n",
      "  (4759, 2500)\t0.1881896442203568\n",
      "  (4759, 3313)\t0.22790059245772076\n",
      "  (4759, 5811)\t0.16333000721915777\n"
     ]
    }
   ],
   "source": [
    "print(X)"
   ]
  },
  {
   "cell_type": "markdown",
   "id": "85066694",
   "metadata": {},
   "source": [
    "# Get Similarity Score using Cosine Similarity"
   ]
  },
  {
   "cell_type": "code",
   "execution_count": null,
   "id": "f3808af4",
   "metadata": {},
   "outputs": [],
   "source": [
    "from sklearn.metrics.pairwise import cosine_similarity"
   ]
  },
  {
   "cell_type": "code",
   "execution_count": null,
   "id": "089f2ad5",
   "metadata": {},
   "outputs": [],
   "source": [
    "Similarity_score = cosine_similarity(X)"
   ]
  },
  {
   "cell_type": "code",
   "execution_count": null,
   "id": "bc7d3400",
   "metadata": {},
   "outputs": [],
   "source": [
    "Similarity_score"
   ]
  },
  {
   "cell_type": "code",
   "execution_count": null,
   "id": "fa5306da",
   "metadata": {},
   "outputs": [],
   "source": [
    "Similarity_score.shape"
   ]
  },
  {
   "cell_type": "markdown",
   "id": "782f413e",
   "metadata": {},
   "source": [
    "# Get Movie name from user as Input and validate for Closest Spelling"
   ]
  },
  {
   "cell_type": "code",
   "execution_count": null,
   "id": "d343d3c9",
   "metadata": {},
   "outputs": [],
   "source": [
    "Favorite_movie_name = input(\"Enter your favourite Movie Name : \")"
   ]
  },
  {
   "cell_type": "code",
   "execution_count": null,
   "id": "5e1f4b87",
   "metadata": {},
   "outputs": [],
   "source": [
    "All_movies_title_list = df['Movie_Title'].tolist()"
   ]
  },
  {
   "cell_type": "code",
   "execution_count": null,
   "id": "f27f51da",
   "metadata": {},
   "outputs": [],
   "source": [
    "import difflib"
   ]
  },
  {
   "cell_type": "code",
   "execution_count": null,
   "id": "a7d47c6f",
   "metadata": {},
   "outputs": [],
   "source": [
    "Movie_recommendation = difflib.get_close_matches(Favorite_movie_name, All_movies_title_list)\n",
    "print(Movie_recommendation)"
   ]
  },
  {
   "cell_type": "code",
   "execution_count": null,
   "id": "f41ac6dc",
   "metadata": {},
   "outputs": [],
   "source": [
    "Close_Match = Movie_recommendation[1]\n",
    "print(Close_Match)"
   ]
  },
  {
   "cell_type": "code",
   "execution_count": null,
   "id": "b3aa06a9",
   "metadata": {},
   "outputs": [],
   "source": [
    "Index_of_close_Match_movie = df[df.Movie_Title == Close_Match]['Movie_ID'].values[0]\n",
    "print(Index_of_close_Match_movie)"
   ]
  },
  {
   "cell_type": "markdown",
   "id": "f5443301",
   "metadata": {},
   "source": [
    "# getting a list of Similar Movies "
   ]
  },
  {
   "cell_type": "code",
   "execution_count": null,
   "id": "f5b7555a",
   "metadata": {},
   "outputs": [],
   "source": [
    "Recommendation_Score = list(enumerate(Similarity_score[Index_of_close_Match_movie]))\n",
    "print(Recommendation_Score)"
   ]
  },
  {
   "cell_type": "code",
   "execution_count": null,
   "id": "1bd5d929",
   "metadata": {},
   "outputs": [],
   "source": [
    "len(Recommendation_Score)"
   ]
  },
  {
   "cell_type": "markdown",
   "id": "b955892d",
   "metadata": {},
   "source": [
    "# Get All Movies Sort based on Recommendation Score WRT Favourite Movie"
   ]
  },
  {
   "cell_type": "code",
   "execution_count": null,
   "id": "9309f731",
   "metadata": {},
   "outputs": [],
   "source": [
    "#sorting the movies based on their similarity score"
   ]
  },
  {
   "cell_type": "code",
   "execution_count": null,
   "id": "569a582f",
   "metadata": {},
   "outputs": [],
   "source": [
    "Sorted_Similar_Movies = sorted(Recommendation_Score, key = lambda x:x[1], reverse = True)\n",
    "print(Sorted_Similar_Movies)"
   ]
  },
  {
   "cell_type": "code",
   "execution_count": null,
   "id": "07e0ced5",
   "metadata": {},
   "outputs": [],
   "source": [
    "#printing the name of Similar Movies Based on the Index"
   ]
  },
  {
   "cell_type": "code",
   "execution_count": null,
   "id": "cbea553e",
   "metadata": {},
   "outputs": [],
   "source": [
    "print('Top 30 Movies Suggest for You : \\n')\n",
    "\n",
    "i = 1\n",
    "for movie in Sorted_Similar_Movies:\n",
    "    index = movie[0]\n",
    "    title_from_index = df[df.index==index]['Movie_Title'].values[0]\n",
    "    if (i<31):\n",
    "        print(i, '.', title_from_index)\n",
    "        i+=1"
   ]
  },
  {
   "cell_type": "markdown",
   "id": "c897ff35",
   "metadata": {},
   "source": [
    "# Top 10 Movie Recommendation System "
   ]
  },
  {
   "cell_type": "code",
   "execution_count": null,
   "id": "d7addcae",
   "metadata": {},
   "outputs": [],
   "source": [
    "Movie_Name = input(\"Enter Your Favourite Movie Name :  \")\n",
    "\n",
    "list_of_all_titles = df['Movie_Title'].tolist()\n",
    "\n",
    "Find_Close_match = difflib.get_close_matches(Movie_Name, list_of_all_titles)\n",
    "\n",
    "Close_Match = Find_Close_Match[0]\n",
    "\n",
    "Index_of_Movie = df[df.Movie_Title == Close_Match]['Movie_ID'].values[0]\n",
    "\n",
    "Recommendation_Score = list(enumerate(Similarity_score[Index_of_movie]))\n",
    "\n",
    "Sorted_Similar_Movies = sorted(Recommendation_Score, key = lambda x:x[1], reverse = True)\n",
    "\n",
    "print('Top 10 Movies suggested for You : \\n')\n",
    "\n",
    "i = 1\n",
    "\n",
    "for movies in Sorted_Similar_Movies:\n",
    "    index = movie[0]\n",
    "    title_from_index = df[df.Movie_ID == index]['Movie_Title'].values\n",
    "    if (i<11):\n",
    "        print(i, '.', title_from_index)\n",
    "        i+=1\n",
    "        "
   ]
  },
  {
   "cell_type": "code",
   "execution_count": null,
   "id": "2eab099b",
   "metadata": {},
   "outputs": [],
   "source": []
  },
  {
   "cell_type": "code",
   "execution_count": null,
   "id": "12d5033a",
   "metadata": {},
   "outputs": [],
   "source": []
  },
  {
   "cell_type": "code",
   "execution_count": null,
   "id": "3ee152bb",
   "metadata": {},
   "outputs": [],
   "source": []
  },
  {
   "cell_type": "code",
   "execution_count": null,
   "id": "5d9ab0e7",
   "metadata": {},
   "outputs": [],
   "source": []
  },
  {
   "cell_type": "code",
   "execution_count": null,
   "id": "93915b9c",
   "metadata": {},
   "outputs": [],
   "source": []
  },
  {
   "cell_type": "code",
   "execution_count": null,
   "id": "1904a02c",
   "metadata": {},
   "outputs": [],
   "source": []
  }
 ],
 "metadata": {
  "kernelspec": {
   "display_name": "Python 3 (ipykernel)",
   "language": "python",
   "name": "python3"
  },
  "language_info": {
   "codemirror_mode": {
    "name": "ipython",
    "version": 3
   },
   "file_extension": ".py",
   "mimetype": "text/x-python",
   "name": "python",
   "nbconvert_exporter": "python",
   "pygments_lexer": "ipython3",
   "version": "3.10.9"
  }
 },
 "nbformat": 4,
 "nbformat_minor": 5
}
