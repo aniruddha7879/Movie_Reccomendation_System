{
 "cells": [
  {
   "cell_type": "markdown",
   "id": "84e943f6",
   "metadata": {},
   "source": [
    "# Import Libraries "
   ]
  },
  {
   "cell_type": "code",
   "execution_count": null,
   "id": "d46daa37",
   "metadata": {},
   "outputs": [],
   "source": [
    "import pandas as pd\n",
    "import numpy as np"
   ]
  },
  {
   "cell_type": "markdown",
   "id": "10490e41",
   "metadata": {},
   "source": [
    "# Import Dataset"
   ]
  },
  {
   "cell_type": "code",
   "execution_count": null,
   "id": "c7670704",
   "metadata": {},
   "outputs": [],
   "source": [
    "df = pd.read_csv(\"Movies Recommendation.csv\")                "
   ]
  },
  {
   "cell_type": "code",
   "execution_count": null,
   "id": "caf01aeb",
   "metadata": {},
   "outputs": [],
   "source": [
    "df.head()"
   ]
  },
  {
   "cell_type": "code",
   "execution_count": null,
   "id": "fb2afb4c",
   "metadata": {},
   "outputs": [],
   "source": [
    "df.info()"
   ]
  },
  {
   "cell_type": "code",
   "execution_count": null,
   "id": "3cf89e0b",
   "metadata": {},
   "outputs": [],
   "source": [
    "df.shape"
   ]
  },
  {
   "cell_type": "code",
   "execution_count": null,
   "id": "6324b58c",
   "metadata": {},
   "outputs": [],
   "source": [
    "df.columns"
   ]
  },
  {
   "cell_type": "markdown",
   "id": "d8fe0fca",
   "metadata": {},
   "source": [
    "# Selecting The Features"
   ]
  },
  {
   "cell_type": "code",
   "execution_count": null,
   "id": "73d9a0ef",
   "metadata": {},
   "outputs": [],
   "source": [
    "df_features = df[['Movie_Genre', 'Movie_Keywords', 'Movie_Tagline', 'Movie_Director']].fillna('')"
   ]
  },
  {
   "cell_type": "code",
   "execution_count": null,
   "id": "e003a558",
   "metadata": {},
   "outputs": [],
   "source": [
    "df_features.shape"
   ]
  },
  {
   "cell_type": "code",
   "execution_count": null,
   "id": "d34aed0a",
   "metadata": {},
   "outputs": [],
   "source": [
    "df_features"
   ]
  },
  {
   "cell_type": "code",
   "execution_count": null,
   "id": "a2306d4d",
   "metadata": {},
   "outputs": [],
   "source": [
    "Selections = df_features['Movie_Genre'] + ' ' + df_features['Movie_Keywords'] + ' ' + df_features['Movie_Tagline'] + ' '+ df_features['Movie_Director']"
   ]
  },
  {
   "cell_type": "code",
   "execution_count": null,
   "id": "22671a9d",
   "metadata": {},
   "outputs": [],
   "source": [
    "Selections"
   ]
  },
  {
   "cell_type": "code",
   "execution_count": null,
   "id": "fbca5e80",
   "metadata": {},
   "outputs": [],
   "source": [
    "Selections.shape"
   ]
  },
  {
   "cell_type": "markdown",
   "id": "e9438de5",
   "metadata": {},
   "source": [
    "# Get feature Text Conversion to Tokens"
   ]
  },
  {
   "cell_type": "code",
   "execution_count": null,
   "id": "cbeeb7c0",
   "metadata": {},
   "outputs": [],
   "source": [
    "from sklearn.feature_extraction.text import TfidfVectorizer"
   ]
  },
  {
   "cell_type": "code",
   "execution_count": null,
   "id": "9798a10d",
   "metadata": {},
   "outputs": [],
   "source": [
    "vectorizer = TfidfVectorizer()"
   ]
  },
  {
   "cell_type": "code",
   "execution_count": null,
   "id": "c7e552f7",
   "metadata": {},
   "outputs": [],
   "source": [
    "X = vectorizer.fit_transform(Selections)"
   ]
  },
  {
   "cell_type": "code",
   "execution_count": null,
   "id": "2602056c",
   "metadata": {},
   "outputs": [],
   "source": [
    "X.shape"
   ]
  },
  {
   "cell_type": "code",
   "execution_count": null,
   "id": "53cdf780",
   "metadata": {},
   "outputs": [],
   "source": [
    "print(X)"
   ]
  },
  {
   "cell_type": "markdown",
   "id": "85066694",
   "metadata": {},
   "source": [
    "# Get Similarity Score using Cosine Similarity"
   ]
  },
  {
   "cell_type": "code",
   "execution_count": null,
   "id": "f3808af4",
   "metadata": {},
   "outputs": [],
   "source": [
    "from sklearn.metrics.pairwise import cosine_similarity"
   ]
  },
  {
   "cell_type": "code",
   "execution_count": null,
   "id": "089f2ad5",
   "metadata": {},
   "outputs": [],
   "source": [
    "Similarity_score = cosine_similarity(X)"
   ]
  },
  {
   "cell_type": "code",
   "execution_count": null,
   "id": "bc7d3400",
   "metadata": {},
   "outputs": [],
   "source": [
    "Similarity_score"
   ]
  },
  {
   "cell_type": "code",
   "execution_count": null,
   "id": "fa5306da",
   "metadata": {},
   "outputs": [],
   "source": [
    "Similarity_score.shape"
   ]
  },
  {
   "cell_type": "markdown",
   "id": "782f413e",
   "metadata": {},
   "source": [
    "# Get Movie name from user as Input and validate for Closest Spelling"
   ]
  },
  {
   "cell_type": "code",
   "execution_count": null,
   "id": "d343d3c9",
   "metadata": {},
   "outputs": [],
   "source": [
    "Favorite_movie_name = input(\"Enter your favourite Movie Name : \")"
   ]
  },
  {
   "cell_type": "code",
   "execution_count": null,
   "id": "5e1f4b87",
   "metadata": {},
   "outputs": [],
   "source": [
    "All_movies_title_list = df['Movie_Title'].tolist()"
   ]
  },
  {
   "cell_type": "code",
   "execution_count": null,
   "id": "f27f51da",
   "metadata": {},
   "outputs": [],
   "source": [
    "import difflib"
   ]
  },
  {
   "cell_type": "code",
   "execution_count": null,
   "id": "a7d47c6f",
   "metadata": {},
   "outputs": [],
   "source": [
    "Movie_recommendation = difflib.get_close_matches(Favorite_movie_name, All_movies_title_list)\n",
    "print(Movie_recommendation)"
   ]
  },
  {
   "cell_type": "code",
   "execution_count": null,
   "id": "f41ac6dc",
   "metadata": {},
   "outputs": [],
   "source": [
    "Close_Match = Movie_recommendation[1]\n",
    "print(Close_Match)"
   ]
  },
  {
   "cell_type": "code",
   "execution_count": null,
   "id": "b3aa06a9",
   "metadata": {},
   "outputs": [],
   "source": [
    "Index_of_close_Match_movie = df[df.Movie_Title == Close_Match]['Movie_ID'].values[0]\n",
    "print(Index_of_close_Match_movie)"
   ]
  },
  {
   "cell_type": "markdown",
   "id": "f5443301",
   "metadata": {},
   "source": [
    "# getting a list of Similar Movies "
   ]
  },
  {
   "cell_type": "code",
   "execution_count": null,
   "id": "f5b7555a",
   "metadata": {},
   "outputs": [],
   "source": [
    "Recommendation_Score = list(enumerate(Similarity_score[Index_of_close_Match_movie]))\n",
    "print(Recommendation_Score)"
   ]
  },
  {
   "cell_type": "code",
   "execution_count": null,
   "id": "1bd5d929",
   "metadata": {},
   "outputs": [],
   "source": [
    "len(Recommendation_Score)"
   ]
  },
  {
   "cell_type": "markdown",
   "id": "b955892d",
   "metadata": {},
   "source": [
    "# Get All Movies Sort based on Recommendation Score WRT Favourite Movie"
   ]
  },
  {
   "cell_type": "code",
   "execution_count": null,
   "id": "9309f731",
   "metadata": {},
   "outputs": [],
   "source": [
    "#sorting the movies based on their similarity score"
   ]
  },
  {
   "cell_type": "code",
   "execution_count": null,
   "id": "569a582f",
   "metadata": {},
   "outputs": [],
   "source": [
    "Sorted_Similar_Movies = sorted(Recommendation_Score, key = lambda x:x[1], reverse = True)\n",
    "print(Sorted_Similar_Movies)"
   ]
  },
  {
   "cell_type": "code",
   "execution_count": null,
   "id": "07e0ced5",
   "metadata": {},
   "outputs": [],
   "source": [
    "#printing the name of Similar Movies Based on the Index"
   ]
  },
  {
   "cell_type": "code",
   "execution_count": null,
   "id": "cbea553e",
   "metadata": {},
   "outputs": [],
   "source": [
    "print('Top 30 Movies Suggest for You : \\n')\n",
    "\n",
    "i = 1\n",
    "for movie in Sorted_Similar_Movies:\n",
    "    index = movie[0]\n",
    "    title_from_index = df[df.index==index]['Movie_Title'].values[0]\n",
    "    if (i<31):\n",
    "        print(i, '.', title_from_index)\n",
    "        i+=1"
   ]
  },
  {
   "cell_type": "markdown",
   "id": "c897ff35",
   "metadata": {},
   "source": [
    "# Top 10 Movie Recommendation System "
   ]
  },
  {
   "cell_type": "code",
   "execution_count": null,
   "id": "d7addcae",
   "metadata": {},
   "outputs": [],
   "source": [
    "Movie_Name = input(\"Enter Your Favourite Movie Name :  \")\n",
    "\n",
    "list_of_all_titles = df['Movie_Title'].tolist()\n",
    "\n",
    "Find_Close_match = difflib.get_close_matches(Movie_Name, list_of_all_titles)\n",
    "\n",
    "Close_Match = Find_Close_Match[0]\n",
    "\n",
    "Index_of_Movie = df[df.Movie_Title == Close_Match]['Movie_ID'].values[0]\n",
    "\n",
    "Recommendation_Score = list(enumerate(Similarity_score[Index_of_movie]))\n",
    "\n",
    "Sorted_Similar_Movies = sorted(Recommendation_Score, key = lambda x:x[1], reverse = True)\n",
    "\n",
    "print('Top 10 Movies suggested for You : \\n')\n",
    "\n",
    "i = 1\n",
    "\n",
    "for movies in Sorted_Similar_Movies:\n",
    "    index = movie[0]\n",
    "    title_from_index = df[df.Movie_ID == index]['Movie_Title'].values\n",
    "    if (i<11):\n",
    "        print(i, '.', title_from_index)\n",
    "        i+=1\n",
    "        "
   ]
  }
 ],
 "metadata": {
  "kernelspec": {
   "display_name": "Python 3 (ipykernel)",
   "language": "python",
   "name": "python3"
  },
  "language_info": {
   "codemirror_mode": {
    "name": "ipython",
    "version": 3
   },
   "file_extension": ".py",
   "mimetype": "text/x-python",
   "name": "python",
   "nbconvert_exporter": "python",
   "pygments_lexer": "ipython3",
   "version": "3.10.9"
  }
 },
 "nbformat": 4,
 "nbformat_minor": 5
}
